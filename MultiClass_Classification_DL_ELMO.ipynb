{
 "cells": [
  {
   "cell_type": "markdown",
   "metadata": {},
   "source": [
    "# Text Classification - ELMo"
   ]
  },
  {
   "cell_type": "markdown",
   "metadata": {},
   "source": [
    "ELMo is a deep contextualized word representation that models both (1) complex characteristics of word use (e.g., syntax and semantics), and (2) how these uses vary across linguistic contexts (i.e., to model polysemy). These word vectors are learned functions of the internal states of a deep bidirectional language model (biLM), which is pre-trained on a large text corpus. They can be easily added to existing models and significantly improve the state of the art across a broad range of challenging NLP problems, including question answering, textual entailment and sentiment analysis."
   ]
  },
  {
   "cell_type": "code",
   "execution_count": 1,
   "metadata": {},
   "outputs": [
    {
     "name": "stderr",
     "output_type": "stream",
     "text": [
      "Using TensorFlow backend.\n"
     ]
    }
   ],
   "source": [
    "# load packages\n",
    "from sklearn import model_selection, preprocessing, linear_model, naive_bayes, metrics\n",
    "\n",
    "import keras\n",
    "from keras.models import Sequential,Model\n",
    "from keras.layers import  Input,Embedding, Lambda,Dropout,Conv1D,Conv2D,Activation, Dense, Bidirectional,GlobalMaxPooling1D, LSTM, SpatialDropout1D, TimeDistributed,Masking,Layer\n",
    "from keras.callbacks import ModelCheckpoint\n",
    "import keras.backend as K\n",
    "\n",
    "from sklearn.utils import shuffle\n",
    "import matplotlib.pyplot as plt\n",
    "import seaborn as sns\n",
    "import numpy as np\n",
    "import string\n",
    "import pandas as pd\n",
    "from nltk.stem.porter import PorterStemmer\n",
    "import re\n",
    "import spacy\n",
    "from nltk.corpus import stopwords\n",
    "from sklearn.feature_extraction.stop_words import ENGLISH_STOP_WORDS\n",
    "from spacy.lang.en import English\n",
    "spacy.load('en')\n",
    "parser = English()"
   ]
  },
  {
   "cell_type": "code",
   "execution_count": 2,
   "metadata": {},
   "outputs": [],
   "source": [
    "# Stop words and special characters \n",
    "STOPLIST = set(stopwords.words('english') + list(ENGLISH_STOP_WORDS)) \n",
    "SYMBOLS = \" \".join(string.punctuation).split(\" \") + [\"-\", \"...\", \"”\", \"”\",\"''\"]"
   ]
  },
  {
   "cell_type": "code",
   "execution_count": 3,
   "metadata": {},
   "outputs": [],
   "source": [
    "trainDF = pd.read_csv('./bbc-text.csv')"
   ]
  },
  {
   "cell_type": "code",
   "execution_count": 4,
   "metadata": {},
   "outputs": [
    {
     "data": {
      "text/html": [
       "<div>\n",
       "<style scoped>\n",
       "    .dataframe tbody tr th:only-of-type {\n",
       "        vertical-align: middle;\n",
       "    }\n",
       "\n",
       "    .dataframe tbody tr th {\n",
       "        vertical-align: top;\n",
       "    }\n",
       "\n",
       "    .dataframe thead th {\n",
       "        text-align: right;\n",
       "    }\n",
       "</style>\n",
       "<table border=\"1\" class=\"dataframe\">\n",
       "  <thead>\n",
       "    <tr style=\"text-align: right;\">\n",
       "      <th></th>\n",
       "      <th>category</th>\n",
       "      <th>text</th>\n",
       "    </tr>\n",
       "  </thead>\n",
       "  <tbody>\n",
       "    <tr>\n",
       "      <th>0</th>\n",
       "      <td>tech</td>\n",
       "      <td>tv future in the hands of viewers with home th...</td>\n",
       "    </tr>\n",
       "    <tr>\n",
       "      <th>1</th>\n",
       "      <td>business</td>\n",
       "      <td>worldcom boss  left books alone  former worldc...</td>\n",
       "    </tr>\n",
       "    <tr>\n",
       "      <th>2</th>\n",
       "      <td>sport</td>\n",
       "      <td>tigers wary of farrell  gamble  leicester say ...</td>\n",
       "    </tr>\n",
       "    <tr>\n",
       "      <th>3</th>\n",
       "      <td>sport</td>\n",
       "      <td>yeading face newcastle in fa cup premiership s...</td>\n",
       "    </tr>\n",
       "    <tr>\n",
       "      <th>4</th>\n",
       "      <td>entertainment</td>\n",
       "      <td>ocean s twelve raids box office ocean s twelve...</td>\n",
       "    </tr>\n",
       "    <tr>\n",
       "      <th>5</th>\n",
       "      <td>politics</td>\n",
       "      <td>howard hits back at mongrel jibe michael howar...</td>\n",
       "    </tr>\n",
       "    <tr>\n",
       "      <th>6</th>\n",
       "      <td>politics</td>\n",
       "      <td>blair prepares to name poll date tony blair is...</td>\n",
       "    </tr>\n",
       "    <tr>\n",
       "      <th>7</th>\n",
       "      <td>sport</td>\n",
       "      <td>henman hopes ended in dubai third seed tim hen...</td>\n",
       "    </tr>\n",
       "    <tr>\n",
       "      <th>8</th>\n",
       "      <td>sport</td>\n",
       "      <td>wilkinson fit to face edinburgh england captai...</td>\n",
       "    </tr>\n",
       "    <tr>\n",
       "      <th>9</th>\n",
       "      <td>entertainment</td>\n",
       "      <td>last star wars  not for children  the sixth an...</td>\n",
       "    </tr>\n",
       "  </tbody>\n",
       "</table>\n",
       "</div>"
      ],
      "text/plain": [
       "        category                                               text\n",
       "0           tech  tv future in the hands of viewers with home th...\n",
       "1       business  worldcom boss  left books alone  former worldc...\n",
       "2          sport  tigers wary of farrell  gamble  leicester say ...\n",
       "3          sport  yeading face newcastle in fa cup premiership s...\n",
       "4  entertainment  ocean s twelve raids box office ocean s twelve...\n",
       "5       politics  howard hits back at mongrel jibe michael howar...\n",
       "6       politics  blair prepares to name poll date tony blair is...\n",
       "7          sport  henman hopes ended in dubai third seed tim hen...\n",
       "8          sport  wilkinson fit to face edinburgh england captai...\n",
       "9  entertainment  last star wars  not for children  the sixth an..."
      ]
     },
     "execution_count": 4,
     "metadata": {},
     "output_type": "execute_result"
    }
   ],
   "source": [
    "trainDF.head(10)"
   ]
  },
  {
   "cell_type": "code",
   "execution_count": 5,
   "metadata": {},
   "outputs": [
    {
     "data": {
      "text/plain": [
       "(2225, 2)"
      ]
     },
     "execution_count": 5,
     "metadata": {},
     "output_type": "execute_result"
    }
   ],
   "source": [
    "trainDF.shape"
   ]
  },
  {
   "cell_type": "code",
   "execution_count": 6,
   "metadata": {},
   "outputs": [],
   "source": [
    "# change datatype to string\n",
    "trainDF = trainDF[[\"category\",\"text\"]].astype(str)"
   ]
  },
  {
   "cell_type": "code",
   "execution_count": 7,
   "metadata": {},
   "outputs": [
    {
     "data": {
      "text/plain": [
       "array(['tech', 'business', 'sport', 'entertainment', 'politics'],\n",
       "      dtype=object)"
      ]
     },
     "execution_count": 7,
     "metadata": {},
     "output_type": "execute_result"
    }
   ],
   "source": [
    "# check labels in category\n",
    "trainDF['category'].unique()"
   ]
  },
  {
   "cell_type": "code",
   "execution_count": 8,
   "metadata": {},
   "outputs": [
    {
     "data": {
      "text/plain": [
       "sport            511\n",
       "business         510\n",
       "politics         417\n",
       "tech             401\n",
       "entertainment    386\n",
       "Name: category, dtype: int64"
      ]
     },
     "execution_count": 8,
     "metadata": {},
     "output_type": "execute_result"
    }
   ],
   "source": [
    "# check counts of each category\n",
    "trainDF['category'].value_counts()"
   ]
  },
  {
   "cell_type": "code",
   "execution_count": 9,
   "metadata": {},
   "outputs": [
    {
     "data": {
      "text/plain": [
       "<matplotlib.axes._subplots.AxesSubplot at 0x7f5d955d5748>"
      ]
     },
     "execution_count": 9,
     "metadata": {},
     "output_type": "execute_result"
    },
    {
     "data": {
      "image/png": "[encoded data removed]",
      "text/plain": [
       "<Figure size 720x720 with 1 Axes>"
      ]
     },
     "metadata": {},
     "output_type": "display_data"
    }
   ],
   "source": [
    "sns.set(rc={'figure.figsize':(10,10)})\n",
    "sns.countplot(trainDF['category'])"
   ]
  },
  {
   "cell_type": "markdown",
   "metadata": {},
   "source": [
    "## Data preparation"
   ]
  },
  {
   "cell_type": "code",
   "execution_count": 10,
   "metadata": {},
   "outputs": [],
   "source": [
    "# Data Cleaner and tokenizer\n",
    "def tokenizeText(text):\n",
    "\n",
    "    text = text.strip().replace(\"\\n\", \" \").replace(\"\\r\", \" \")\n",
    "    text = text.lower()\n",
    "    \n",
    "    tokens = parser(text)\n",
    "    \n",
    "    lemmas = []\n",
    "    for tok in tokens:\n",
    "        lemmas.append(tok.lemma_.lower().strip() if tok.lemma_ != \"-PRON-\" else tok.lower_)\n",
    "    tokens = lemmas\n",
    "    \n",
    "    # reomve stop words and special charaters\n",
    "    tokens = [tok for tok in tokens if tok.lower() not in STOPLIST]\n",
    "    tokens = [tok for tok in tokens if tok not in SYMBOLS]\n",
    "    \n",
    "    tokens = [tok for tok in tokens if len(tok) >= 3]\n",
    "    \n",
    "    # remove remaining tokens that are not alphabetic\n",
    "    tokens = [tok for tok in tokens if tok.isalpha()]\n",
    "    \n",
    "    # stemming of words\n",
    "    #porter = PorterStemmer()\n",
    "    #tokens = [porter.stem(word) for word in tokens]\n",
    "    \n",
    "    tokens = list(set(tokens))\n",
    "    #return tokens\n",
    "    return ' '.join(tokens[:])"
   ]
  },
  {
   "cell_type": "code",
   "execution_count": 11,
   "metadata": {},
   "outputs": [],
   "source": [
    "# Data cleaning\n",
    "trainDF['text'] = trainDF['text'].apply(lambda x:tokenizeText(x))"
   ]
  },
  {
   "cell_type": "code",
   "execution_count": 12,
   "metadata": {},
   "outputs": [],
   "source": [
    "# label encoding\n",
    "\n",
    "y = list(trainDF['category'])\n",
    "x = list(trainDF['text'])\n",
    "\n",
    "le = preprocessing.LabelEncoder()\n",
    "le.fit(y)\n",
    "\n",
    "def encode(le, labels):\n",
    "    enc = le.transform(labels)\n",
    "    return keras.utils.to_categorical(enc)\n",
    "\n",
    "def decode(le, one_hot):\n",
    "    dec = np.argmax(one_hot, axis=1)\n",
    "    return le.inverse_transform(dec)\n",
    "\n",
    "\n",
    "x_enc = x\n",
    "y_enc = encode(le, y)"
   ]
  },
  {
   "cell_type": "code",
   "execution_count": 13,
   "metadata": {},
   "outputs": [],
   "source": [
    "# split the dataset into training and validation datasets\n",
    "x_train, x_val, y_train, y_val = model_selection.train_test_split(np.asarray(x_enc), np.asarray(y_enc), test_size=0.2, random_state=42)"
   ]
  },
  {
   "cell_type": "code",
   "execution_count": 14,
   "metadata": {},
   "outputs": [],
   "source": [
    "# split the dataset into training and validation datasets\n",
    "x_train, x_test, y_train, y_test = model_selection.train_test_split(x_train, y_train, test_size=0.2, random_state=42)"
   ]
  },
  {
   "cell_type": "code",
   "execution_count": 15,
   "metadata": {},
   "outputs": [
    {
     "data": {
      "text/plain": [
       "((1424,), (445,), (356,))"
      ]
     },
     "execution_count": 15,
     "metadata": {},
     "output_type": "execute_result"
    }
   ],
   "source": [
    "x_train.shape,x_val.shape, x_test.shape"
   ]
  },
  {
   "cell_type": "markdown",
   "metadata": {},
   "source": [
    "## Model Building"
   ]
  },
  {
   "cell_type": "code",
   "execution_count": 16,
   "metadata": {},
   "outputs": [],
   "source": [
    "import tensorflow_hub as hub\n",
    "import tensorflow as tf\n",
    "tf.compat.v1.get_default_graph\n",
    "from keras.layers.merge import add"
   ]
  },
  {
   "cell_type": "code",
   "execution_count": 17,
   "metadata": {},
   "outputs": [],
   "source": [
    "embed = hub.Module(\"/home/saiy/Documents/work_files/extras/embeddings/elmo\", trainable=True)"
   ]
  },
  {
   "cell_type": "code",
   "execution_count": 27,
   "metadata": {},
   "outputs": [],
   "source": [
    "def ELMoEmbedding(x):\n",
    "    return embed(tf.squeeze(tf.cast(x, tf.string)), signature=\"default\", as_dict=True)[\"elmo\"]"
   ]
  },
  {
   "cell_type": "code",
   "execution_count": 19,
   "metadata": {},
   "outputs": [],
   "source": [
    "class ElmoEmbeddingLayer(Layer):\n",
    "    def __init__(self, **kwargs):\n",
    "        self.dimensions = 1024\n",
    "        self.trainable = True\n",
    "        super(ElmoEmbeddingLayer, self).__init__(**kwargs)\n",
    "        \n",
    "    def build(self, input_shape):\n",
    "            self.elmo = hub.Module(\"/home/saiy/Documents/work_files/extras/embeddings/elmo\", trainable=self.trainable, name=\"{}_module\".format(self.name))\n",
    "            self.trainable_weights += K.tf.trainable_variables(scope=\"^{}_module/.*\".format(self.name))\n",
    "            super(ElmoEmbeddingLayer, self).build(input_shape)\n",
    "        \n",
    "    def call(self, x, mask=None):\n",
    "            result = self.elmo(K.squeeze(K.cast(x, tf.string), axis=1),\n",
    "                          as_dict=True,\n",
    "                          signature='default',\n",
    "                          )['default']\n",
    "            return result\n",
    "    def compute_mask(self, inputs, mask=None):\n",
    "            return K.not_equal(inputs, '--PAD--')\n",
    "    def compute_output_shape(self, input_shape):\n",
    "            return (input_shape[0], self.dimensions)"
   ]
  },
  {
   "cell_type": "markdown",
   "metadata": {},
   "source": [
    "## Case 1"
   ]
  },
  {
   "cell_type": "code",
   "execution_count": 20,
   "metadata": {
    "scrolled": true
   },
   "outputs": [
    {
     "name": "stderr",
     "output_type": "stream",
     "text": [
      "WARNING: Logging before flag parsing goes to stderr.\n",
      "W0731 13:49:09.034478 140042535176000 deprecation_wrapper.py:119] From /home/saiy/.local/lib/python3.6/site-packages/keras/backend/tensorflow_backend.py:74: The name tf.get_default_graph is deprecated. Please use tf.compat.v1.get_default_graph instead.\n",
      "\n",
      "W0731 13:49:09.035456 140042535176000 deprecation_wrapper.py:119] From /home/saiy/.local/lib/python3.6/site-packages/keras/backend/tensorflow_backend.py:517: The name tf.placeholder is deprecated. Please use tf.compat.v1.placeholder instead.\n",
      "\n",
      "W0731 13:49:10.318593 140042535176000 deprecation_wrapper.py:119] From /home/saiy/.local/lib/python3.6/site-packages/keras/backend/tensorflow_backend.py:4138: The name tf.random_uniform is deprecated. Please use tf.random.uniform instead.\n",
      "\n",
      "W0731 13:49:10.342129 140042535176000 deprecation_wrapper.py:119] From /home/saiy/.local/lib/python3.6/site-packages/keras/optimizers.py:790: The name tf.train.Optimizer is deprecated. Please use tf.compat.v1.train.Optimizer instead.\n",
      "\n",
      "W0731 13:49:10.360306 140042535176000 deprecation_wrapper.py:119] From /home/saiy/.local/lib/python3.6/site-packages/keras/backend/tensorflow_backend.py:3295: The name tf.log is deprecated. Please use tf.math.log instead.\n",
      "\n"
     ]
    },
    {
     "name": "stdout",
     "output_type": "stream",
     "text": [
      "_________________________________________________________________\n",
      "Layer (type)                 Output Shape              Param #   \n",
      "=================================================================\n",
      "input_1 (InputLayer)         (None, 1)                 0         \n",
      "_________________________________________________________________\n",
      "elmo_embedding_layer_1 (Elmo (None, 1024)              4         \n",
      "_________________________________________________________________\n",
      "dense_1 (Dense)              (None, 256)               262400    \n",
      "_________________________________________________________________\n",
      "dense_2 (Dense)              (None, 5)                 1285      \n",
      "=================================================================\n",
      "Total params: 263,689\n",
      "Trainable params: 263,689\n",
      "Non-trainable params: 0\n",
      "_________________________________________________________________\n"
     ]
    }
   ],
   "source": [
    "# input_text = Input(shape=(1,), dtype=tf.string)\n",
    "# embedding = Lambda(ELMoEmbedding, output_shape=(1024, ))(input_text)\n",
    "# dense = Dense(256, activation='relu')(embedding)\n",
    "# pred = Dense(2, activation='softmax')(dense)\n",
    "# model = Model(inputs=[input_text], outputs=pred)\n",
    "# model.compile(loss='categorical_crossentropy', optimizer='adam', metrics=['accuracy'])\n",
    "\n",
    "# model.summary()\n",
    "input_text = Input(shape=(1,), dtype=\"string\")\n",
    "embedding = ElmoEmbeddingLayer()(input_text)\n",
    "dense = Dense(256, activation='relu')(embedding)\n",
    "pred = Dense(5, activation='softmax')(dense)\n",
    "model = Model(inputs=[input_text], outputs=pred)\n",
    "model.compile(loss='categorical_crossentropy', optimizer='adam', metrics=['accuracy'])\n",
    "\n",
    "model.summary()"
   ]
  },
  {
   "cell_type": "code",
   "execution_count": 21,
   "metadata": {},
   "outputs": [
    {
     "name": "stderr",
     "output_type": "stream",
     "text": [
      "W0731 13:49:18.023270 140042535176000 deprecation.py:323] From /home/saiy/.local/lib/python3.6/site-packages/tensorflow/python/ops/math_grad.py:1250: add_dispatch_support.<locals>.wrapper (from tensorflow.python.ops.array_ops) is deprecated and will be removed in a future version.\n",
      "Instructions for updating:\n",
      "Use tf.where in 2.0, which has the same broadcast rule as np.where\n",
      "W0731 13:49:18.159848 140042535176000 deprecation_wrapper.py:119] From /home/saiy/.local/lib/python3.6/site-packages/keras/backend/tensorflow_backend.py:986: The name tf.assign_add is deprecated. Please use tf.compat.v1.assign_add instead.\n",
      "\n"
     ]
    },
    {
     "name": "stdout",
     "output_type": "stream",
     "text": [
      "Train on 1424 samples, validate on 445 samples\n",
      "Epoch 1/10\n",
      "1424/1424 [==============================] - 372s 261ms/step - loss: 0.3089 - acc: 0.8904 - val_loss: 0.1741 - val_acc: 0.9303\n",
      "\n",
      "Epoch 00001: val_acc improved from -inf to 0.93034, saving model to ./elmo-model-best-c1.hdf5\n",
      "Epoch 2/10\n",
      "1424/1424 [==============================] - 323s 227ms/step - loss: 0.1566 - acc: 0.9522 - val_loss: 0.1727 - val_acc: 0.9371\n",
      "\n",
      "Epoch 00002: val_acc improved from 0.93034 to 0.93708, saving model to ./elmo-model-best-c1.hdf5\n",
      "Epoch 3/10\n",
      "1424/1424 [==============================] - 323s 227ms/step - loss: 0.0941 - acc: 0.9691 - val_loss: 0.1389 - val_acc: 0.9551\n",
      "\n",
      "Epoch 00003: val_acc improved from 0.93708 to 0.95506, saving model to ./elmo-model-best-c1.hdf5\n",
      "Epoch 4/10\n",
      "1424/1424 [==============================] - 321s 226ms/step - loss: 0.0976 - acc: 0.9656 - val_loss: 0.1560 - val_acc: 0.9506\n",
      "\n",
      "Epoch 00004: val_acc did not improve from 0.95506\n",
      "Epoch 5/10\n",
      "1424/1424 [==============================] - 319s 224ms/step - loss: 0.0937 - acc: 0.9712 - val_loss: 0.2565 - val_acc: 0.9124\n",
      "\n",
      "Epoch 00005: val_acc did not improve from 0.95506\n",
      "Epoch 6/10\n",
      "1424/1424 [==============================] - 322s 226ms/step - loss: 0.0688 - acc: 0.9768 - val_loss: 0.1448 - val_acc: 0.9573\n",
      "\n",
      "Epoch 00006: val_acc improved from 0.95506 to 0.95730, saving model to ./elmo-model-best-c1.hdf5\n",
      "Epoch 7/10\n",
      "1424/1424 [==============================] - 319s 224ms/step - loss: 0.0590 - acc: 0.9824 - val_loss: 0.2523 - val_acc: 0.9056\n",
      "\n",
      "Epoch 00007: val_acc did not improve from 0.95730\n",
      "Epoch 8/10\n",
      "1424/1424 [==============================] - 319s 224ms/step - loss: 0.0514 - acc: 0.9810 - val_loss: 0.1170 - val_acc: 0.9551\n",
      "\n",
      "Epoch 00008: val_acc did not improve from 0.95730\n",
      "Epoch 9/10\n",
      "1424/1424 [==============================] - 320s 224ms/step - loss: 0.0737 - acc: 0.9747 - val_loss: 0.1350 - val_acc: 0.9528\n",
      "\n",
      "Epoch 00009: val_acc did not improve from 0.95730\n",
      "Epoch 10/10\n",
      "1424/1424 [==============================] - 318s 223ms/step - loss: 0.0306 - acc: 0.9881 - val_loss: 0.1794 - val_acc: 0.9506\n",
      "\n",
      "Epoch 00010: val_acc did not improve from 0.95730\n"
     ]
    }
   ],
   "source": [
    "with tf.Session() as session:\n",
    "    K.set_session(session)\n",
    "    session.run(tf.global_variables_initializer())  \n",
    "    session.run(tf.tables_initializer())\n",
    "    # checkpoint\n",
    "    filepath=\"./elmo-model-best-c1.hdf5\"\n",
    "    checkpoint = ModelCheckpoint(filepath, monitor='val_acc', verbose=1, save_best_only=True, mode='max')\n",
    "    callbacks_list = [checkpoint]\n",
    "    history = model.fit(x_train, y_train,validation_data=(x_val,y_val),callbacks=callbacks_list,epochs=10, batch_size=5)\n",
    "    # model.save_weights('./elmo-model.h5')"
   ]
  },
  {
   "cell_type": "code",
   "execution_count": 22,
   "metadata": {},
   "outputs": [],
   "source": [
    "with tf.Session() as session:\n",
    "    K.set_session(session)\n",
    "    session.run(tf.global_variables_initializer())\n",
    "    session.run(tf.tables_initializer())\n",
    "    model.load_weights('./elmo-model-best-c1.hdf5')  \n",
    "    predicts = model.predict(x_test, batch_size=5)"
   ]
  },
  {
   "cell_type": "code",
   "execution_count": 23,
   "metadata": {},
   "outputs": [],
   "source": [
    "y_test_dec = decode(le, y_test)"
   ]
  },
  {
   "cell_type": "code",
   "execution_count": 24,
   "metadata": {},
   "outputs": [],
   "source": [
    "y_preds = decode(le, predicts)"
   ]
  },
  {
   "cell_type": "code",
   "execution_count": 25,
   "metadata": {},
   "outputs": [
    {
     "name": "stdout",
     "output_type": "stream",
     "text": [
      "[[78  0  3  0  1]\n",
      " [ 0 65  0  1  0]\n",
      " [ 0  1 63  2  1]\n",
      " [ 0  0  0 83  0]\n",
      " [ 1  2  1  0 54]]\n",
      "               precision    recall  f1-score   support\n",
      "\n",
      "     business       0.99      0.95      0.97        82\n",
      "entertainment       0.96      0.98      0.97        66\n",
      "     politics       0.94      0.94      0.94        67\n",
      "        sport       0.97      1.00      0.98        83\n",
      "         tech       0.96      0.93      0.95        58\n",
      "\n",
      "     accuracy                           0.96       356\n",
      "    macro avg       0.96      0.96      0.96       356\n",
      " weighted avg       0.96      0.96      0.96       356\n",
      "\n",
      "Accuracy: 0.9634831460674157\n"
     ]
    }
   ],
   "source": [
    "from sklearn import metrics\n",
    "\n",
    "print(metrics.confusion_matrix(y_test_dec, y_preds))\n",
    "\n",
    "print(metrics.classification_report(y_test_dec, y_preds))\n",
    "\n",
    "from sklearn.metrics import accuracy_score\n",
    "\n",
    "print(\"Accuracy:\",accuracy_score(y_test_dec,y_preds))"
   ]
  },
  {
   "cell_type": "markdown",
   "metadata": {},
   "source": [
    "## Case 2"
   ]
  },
  {
   "cell_type": "code",
   "execution_count": 28,
   "metadata": {},
   "outputs": [
    {
     "name": "stderr",
     "output_type": "stream",
     "text": [
      "W0731 15:07:03.235219 140042535176000 deprecation.py:506] From /home/saiy/.local/lib/python3.6/site-packages/keras/backend/tensorflow_backend.py:3445: calling dropout (from tensorflow.python.ops.nn_ops) with keep_prob is deprecated and will be removed in a future version.\n",
      "Instructions for updating:\n",
      "Please use `rate` instead of `keep_prob`. Rate should be set to `rate = 1 - keep_prob`.\n"
     ]
    },
    {
     "name": "stdout",
     "output_type": "stream",
     "text": [
      "_________________________________________________________________\n",
      "Layer (type)                 Output Shape              Param #   \n",
      "=================================================================\n",
      "input_3 (InputLayer)         (None, 1)                 0         \n",
      "_________________________________________________________________\n",
      "lambda_1 (Lambda)            (None, 1, 1024)           0         \n",
      "_________________________________________________________________\n",
      "bidirectional_1 (Bidirection (None, 256)               1180672   \n",
      "_________________________________________________________________\n",
      "dense_3 (Dense)              (None, 256)               65792     \n",
      "_________________________________________________________________\n",
      "dense_4 (Dense)              (None, 5)                 1285      \n",
      "=================================================================\n",
      "Total params: 1,247,749\n",
      "Trainable params: 1,247,749\n",
      "Non-trainable params: 0\n",
      "_________________________________________________________________\n"
     ]
    }
   ],
   "source": [
    "# elmo embedding dimension\n",
    "elmo_dim = 1024\n",
    "\n",
    "# Input Layers\n",
    "elmo_input = Input(shape=(1, ), dtype=\"string\")\n",
    "\n",
    "# Hidden Layers\n",
    "elmo_embedding = Lambda(ELMoEmbedding, output_shape=(1, elmo_dim))(elmo_input)\n",
    "\n",
    "\n",
    "x = Bidirectional(LSTM(128, dropout=0.2, recurrent_dropout=0.2))(elmo_embedding)\n",
    "x = Dense(256, activation='relu')(x)\n",
    "predict = Dense(5, activation='softmax')(x)\n",
    "model = Model(inputs=[elmo_input], outputs=predict)\n",
    "# model.compile(loss='mse', optimizer='sgd')\n",
    "model.compile(loss='categorical_crossentropy', optimizer='adam', metrics=['accuracy'])\n",
    "\n",
    "model.summary()"
   ]
  },
  {
   "cell_type": "code",
   "execution_count": 31,
   "metadata": {},
   "outputs": [
    {
     "name": "stdout",
     "output_type": "stream",
     "text": [
      "Train on 1424 samples, validate on 445 samples\n",
      "Epoch 1/10\n",
      "1424/1424 [==============================] - 326s 229ms/step - loss: 0.6908 - acc: 0.7577 - val_loss: 0.4880 - val_acc: 0.8404\n",
      "\n",
      "Epoch 00001: val_acc improved from -inf to 0.84045, saving model to ./elmo-model-best-c2.hdf5\n",
      "Epoch 2/10\n",
      "1424/1424 [==============================] - 325s 229ms/step - loss: 0.3531 - acc: 0.8785 - val_loss: 0.3943 - val_acc: 0.8697\n",
      "\n",
      "Epoch 00002: val_acc improved from 0.84045 to 0.86966, saving model to ./elmo-model-best-c2.hdf5\n",
      "Epoch 3/10\n",
      "1424/1424 [==============================] - 324s 227ms/step - loss: 0.2410 - acc: 0.9157 - val_loss: 0.4025 - val_acc: 0.8629\n",
      "\n",
      "Epoch 00003: val_acc did not improve from 0.86966\n",
      "Epoch 4/10\n",
      "1424/1424 [==============================] - 324s 227ms/step - loss: 0.2061 - acc: 0.9185 - val_loss: 0.4254 - val_acc: 0.8697\n",
      "\n",
      "Epoch 00004: val_acc did not improve from 0.86966\n",
      "Epoch 5/10\n",
      "1424/1424 [==============================] - 323s 227ms/step - loss: 0.1790 - acc: 0.9389 - val_loss: 0.4198 - val_acc: 0.8697\n",
      "\n",
      "Epoch 00005: val_acc did not improve from 0.86966\n",
      "Epoch 6/10\n",
      "1424/1424 [==============================] - 325s 228ms/step - loss: 0.1491 - acc: 0.9558 - val_loss: 0.4268 - val_acc: 0.8719\n",
      "\n",
      "Epoch 00006: val_acc improved from 0.86966 to 0.87191, saving model to ./elmo-model-best-c2.hdf5\n",
      "Epoch 7/10\n",
      "1424/1424 [==============================] - 323s 227ms/step - loss: 0.1369 - acc: 0.9508 - val_loss: 0.4849 - val_acc: 0.8652\n",
      "\n",
      "Epoch 00007: val_acc did not improve from 0.87191\n",
      "Epoch 8/10\n",
      "1424/1424 [==============================] - 321s 226ms/step - loss: 0.1416 - acc: 0.9544 - val_loss: 0.4693 - val_acc: 0.8787\n",
      "\n",
      "Epoch 00008: val_acc improved from 0.87191 to 0.87865, saving model to ./elmo-model-best-c2.hdf5\n",
      "Epoch 9/10\n",
      "1424/1424 [==============================] - 323s 227ms/step - loss: 0.1224 - acc: 0.9586 - val_loss: 0.4306 - val_acc: 0.8876\n",
      "\n",
      "Epoch 00009: val_acc improved from 0.87865 to 0.88764, saving model to ./elmo-model-best-c2.hdf5\n",
      "Epoch 10/10\n",
      "1424/1424 [==============================] - 324s 228ms/step - loss: 0.1132 - acc: 0.9600 - val_loss: 0.4657 - val_acc: 0.8719\n",
      "\n",
      "Epoch 00010: val_acc did not improve from 0.88764\n"
     ]
    }
   ],
   "source": [
    "with tf.Session() as session:\n",
    "    K.set_session(session)\n",
    "    session.run(tf.global_variables_initializer())  \n",
    "    session.run(tf.tables_initializer())\n",
    "    # checkpoint\n",
    "    filepath=\"./elmo-model-best-c2.hdf5\"\n",
    "    checkpoint = ModelCheckpoint(filepath, monitor='val_acc', verbose=1, save_best_only=True, mode='max')\n",
    "    callbacks_list = [checkpoint]\n",
    "    history = model.fit(x_train, y_train,validation_data=(x_val,y_val),callbacks=callbacks_list,epochs=10, batch_size=5)\n",
    "    # model.save_weights('./elmo-model.h5')"
   ]
  },
  {
   "cell_type": "code",
   "execution_count": 33,
   "metadata": {},
   "outputs": [],
   "source": [
    "# with tf.Session() as session:\n",
    "#     K.set_session(session)\n",
    "#     session.run(tf.global_variables_initializer())\n",
    "#     session.run(tf.tables_initializer())\n",
    "#     model.load_weights('./elmo-model-best-c2.hdf5')  \n",
    "#     predicts = model.predict(x_test, batch_size=5)"
   ]
  },
  {
   "cell_type": "code",
   "execution_count": null,
   "metadata": {},
   "outputs": [],
   "source": [
    "# y_test_dec = decode(le, y_test)\n",
    "# y_preds = decode(le, predicts)"
   ]
  },
  {
   "cell_type": "code",
   "execution_count": null,
   "metadata": {},
   "outputs": [],
   "source": [
    "# from sklearn import metrics\n",
    "\n",
    "# print(metrics.confusion_matrix(y_test_dec, y_preds))\n",
    "\n",
    "# print(metrics.classification_report(y_test_dec, y_preds))\n",
    "\n",
    "# from sklearn.metrics import accuracy_score\n",
    "\n",
    "# print(\"Accuracy:\",accuracy_score(y_test_dec,y_preds))"
   ]
  },
  {
   "cell_type": "code",
   "execution_count": null,
   "metadata": {},
   "outputs": [],
   "source": []
  }
 ],
 "metadata": {
  "kernelspec": {
   "display_name": "Python 3",
   "language": "python",
   "name": "python3"
  },
  "language_info": {
   "codemirror_mode": {
    "name": "ipython",
    "version": 3
   },
   "file_extension": ".py",
   "mimetype": "text/x-python",
   "name": "python",
   "nbconvert_exporter": "python",
   "pygments_lexer": "ipython3",
   "version": "3.6.8"
  }
 },
 "nbformat": 4,
 "nbformat_minor": 2
}
